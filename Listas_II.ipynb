{
  "nbformat": 4,
  "nbformat_minor": 0,
  "metadata": {
    "kernelspec": {
      "display_name": "Python 3",
      "language": "python",
      "name": "python3"
    },
    "language_info": {
      "codemirror_mode": {
        "name": "ipython",
        "version": 3
      },
      "file_extension": ".py",
      "mimetype": "text/x-python",
      "name": "python",
      "nbconvert_exporter": "python",
      "pygments_lexer": "ipython3",
      "version": "3.8.5"
    },
    "colab": {
      "name": "Listas_II.ipynb",
      "provenance": [],
      "collapsed_sections": []
    }
  },
  "cells": [
    {
      "cell_type": "markdown",
      "metadata": {
        "id": "QXdTgJtcINc9"
      },
      "source": [
        "# Listas - Segunda parte\n",
        "\n",
        "Coo se ha visto en otros notebooks de este curso, el ciclo for puede actuar a través de una lista, esto se hace através de iteradores en la siguiente celda se muestra un ejemplo"
      ]
    },
    {
      "cell_type": "code",
      "metadata": {
        "id": "3OpbV-UEINc_",
        "outputId": "ab121131-784b-448f-8caf-9ee71135d9a0"
      },
      "source": [
        "# Celda 01\n",
        "\n",
        "colores = ['Amarillo','Cyan','Magenta','Blanco','Negro', 'Morado','Azul', 'Verde','Lila','Rojo']\n",
        "\n",
        "for color in colores:\n",
        "    print(color)"
      ],
      "execution_count": null,
      "outputs": [
        {
          "output_type": "stream",
          "text": [
            "Amarillo\n",
            "Cyan\n",
            "Magenta\n",
            "Blanco\n",
            "Negro\n",
            "Morado\n",
            "Azul\n",
            "Verde\n",
            "Lila\n",
            "Rojo\n"
          ],
          "name": "stdout"
        }
      ]
    },
    {
      "cell_type": "markdown",
      "metadata": {
        "id": "rlpeIeo-INdI"
      },
      "source": [
        "También se puede extraer cada elemento a través del índice de la lista esto se haría como se muestra a continuación "
      ]
    },
    {
      "cell_type": "code",
      "metadata": {
        "scrolled": true,
        "id": "PNnzP-S9INdK",
        "outputId": "1dbf0676-3e2f-4edf-f1a4-e8e22efbe5a9"
      },
      "source": [
        "# Celda 02\n",
        "\n",
        "colores = ['Amarillo','Cyan','Magenta','Blanco','Negro', 'Morado','Azul', 'Verde','Lila','Rojo']\n",
        "\n",
        "for index in range(len(colores)):\n",
        "    print(colores[index])"
      ],
      "execution_count": null,
      "outputs": [
        {
          "output_type": "stream",
          "text": [
            "Amarillo\n",
            "Cyan\n",
            "Magenta\n",
            "Blanco\n",
            "Negro\n",
            "Morado\n",
            "Azul\n",
            "Verde\n",
            "Lila\n",
            "Rojo\n"
          ],
          "name": "stdout"
        }
      ]
    },
    {
      "cell_type": "markdown",
      "metadata": {
        "id": "Gg1fnTrrINdQ"
      },
      "source": [
        "# Trabajando con partes de alguna lista\n",
        "\n",
        "Una característica importante de las listas es que éstas se pueden partir o extraer sólo una parte ellas para poder procesarlas de manera independiente, observe el siguiente código"
      ]
    },
    {
      "cell_type": "code",
      "metadata": {
        "id": "GWp34MxEINdR",
        "outputId": "18c74d86-e2b5-4ab9-b142-73b000656009",
        "colab": {
          "base_uri": "https://localhost:8080/",
          "height": 68
        }
      },
      "source": [
        "# Celda 03\n",
        "\n",
        "colores = ['Amarillo','Cyan','Magenta','Blanco','Negro', 'Morado','Azul', 'Verde','Lila','Rojo']\n",
        "\n",
        "colores_primarios = colores[0:3]\n",
        "\n",
        "colores_otros = colores[0:-3]\n",
        "\n",
        "print(colores_primarios)\n",
        "\n",
        "print(colores_otros)\n",
        "\n",
        "print(colores[-6])"
      ],
      "execution_count": null,
      "outputs": [
        {
          "output_type": "stream",
          "text": [
            "['Amarillo', 'Cyan', 'Magenta']\n",
            "['Amarillo', 'Cyan', 'Magenta', 'Blanco', 'Negro', 'Morado', 'Azul', 'Verde']\n",
            "Rojo\n"
          ],
          "name": "stdout"
        }
      ]
    },
    {
      "cell_type": "markdown",
      "metadata": {
        "id": "LMZPg9lGINdd"
      },
      "source": [
        "Se pueden extraer partes de una no importando el subíndice, aunque si no hay valores dentro de los subíndices que ha puesto tendrá un lista vacía como resultado."
      ]
    },
    {
      "cell_type": "code",
      "metadata": {
        "id": "rAseoAspINdf",
        "outputId": "26c950ee-37f6-407f-d1e4-c57ed35a4080",
        "colab": {
          "base_uri": "https://localhost:8080/",
          "height": 51
        }
      },
      "source": [
        "# Celda 04\n",
        "\n",
        "colores = ['Amarillo','Cyan','Magenta','Blanco','Negro', 'Morado','Azul', 'Verde','Lila','Rojo','hola']\n",
        "\n",
        "otros_colores = colores[1:8]\n",
        "\n",
        "print(otros_colores)\n",
        "\n",
        "otros_colores = colores[8:10]\n",
        "\n",
        "print(otros_colores)\n"
      ],
      "execution_count": null,
      "outputs": [
        {
          "output_type": "stream",
          "text": [
            "['Cyan', 'Magenta', 'Blanco', 'Negro', 'Morado', 'Azul', 'Verde']\n",
            "['Lila', 'Rojo']\n"
          ],
          "name": "stdout"
        }
      ]
    },
    {
      "cell_type": "markdown",
      "metadata": {
        "id": "xCUK6Cc4INdq"
      },
      "source": [
        "En caso que no se haya definido un índice inicial y no uno final, se tomara del elemento que se haya indicado hasta el final.  Tal como se muestra en la siguiente celda"
      ]
    },
    {
      "cell_type": "code",
      "metadata": {
        "id": "1vIoM0f6INdr",
        "outputId": "06425288-bc35-47fb-80ca-229e42be8410"
      },
      "source": [
        "# Celda 05\n",
        "\n",
        "colores = ['Amarillo','Cyan','Magenta','Blanco','Negro', 'Morado','Azul', 'Verde','Lila','Rojo']\n",
        "\n",
        "otros_colores = colores[3:]\n",
        "\n",
        "print(otros_colores)\n",
        "\n"
      ],
      "execution_count": null,
      "outputs": [
        {
          "output_type": "stream",
          "text": [
            "['Blanco', 'Negro', 'Morado', 'Azul', 'Verde', 'Lila', 'Rojo']\n"
          ],
          "name": "stdout"
        }
      ]
    },
    {
      "cell_type": "markdown",
      "metadata": {
        "id": "E12WdsYwINdx"
      },
      "source": [
        "En caso que no se haya especificado índice inicial y sólo final tomará desde el inicio de la lista hasta la posición - 1 que haya asignado."
      ]
    },
    {
      "cell_type": "code",
      "metadata": {
        "id": "cIC_vjEoINdy",
        "outputId": "2c3a0ee9-a33d-4f0e-8802-4d8913049e20"
      },
      "source": [
        "# Celda 06\n",
        "\n",
        "colores = ['Amarillo','Cyan','Magenta','Blanco','Negro', 'Morado','Azul', 'Verde','Lila','Rojo']\n",
        "\n",
        "otros_colores = colores[:5]\n",
        "\n",
        "print(otros_colores)"
      ],
      "execution_count": null,
      "outputs": [
        {
          "output_type": "stream",
          "text": [
            "['Amarillo', 'Cyan', 'Magenta', 'Blanco', 'Negro']\n"
          ],
          "name": "stdout"
        }
      ]
    },
    {
      "cell_type": "markdown",
      "metadata": {
        "id": "NXh-hKiaINd8"
      },
      "source": [
        "Si no se han especificado ninguno de los dos índices se tomara toda la listo, esto es muy útil cuando se requiere copiar toda una lista"
      ]
    },
    {
      "cell_type": "markdown",
      "metadata": {
        "id": "MLVoLR77INd9"
      },
      "source": [
        "## List comprehension"
      ]
    },
    {
      "cell_type": "markdown",
      "metadata": {
        "id": "8FswS-MEINd-"
      },
      "source": [
        "Ahora suponga que quiere definir una lista y después tomar cada elemento y elevarlo al cuadrado, uno de los enfoques sería, primero generar una lista o vector y después tomar cada elemento del vector y hacer la operación matemática, tal como se muestra en la siguiente celda"
      ]
    },
    {
      "cell_type": "code",
      "metadata": {
        "id": "jscFaUY0INd_",
        "outputId": "ed0ac15f-6cb3-438f-a902-702e00e92597"
      },
      "source": [
        "# Celda 07\n",
        "\n",
        "x = list(range(0,11,1))\n",
        "y = []\n",
        "print(x)\n",
        "for value in x:\n",
        "    square = value**2\n",
        "    y.append(square)\n",
        "print(y)"
      ],
      "execution_count": null,
      "outputs": [
        {
          "output_type": "stream",
          "text": [
            "[0, 1, 2, 3, 4, 5, 6, 7, 8, 9, 10]\n",
            "[0, 1, 4, 9, 16, 25, 36, 49, 64, 81, 100]\n"
          ],
          "name": "stdout"
        }
      ]
    },
    {
      "cell_type": "markdown",
      "metadata": {
        "id": "FSqtyaO3INeF"
      },
      "source": [
        "La segunda opción es utilizar el enfoque que se llama `list comprehension`, el mismo código se muestra a continuación en la siguiente celda."
      ]
    },
    {
      "cell_type": "code",
      "metadata": {
        "id": "zQqqyf8aINeG",
        "outputId": "aceee9a7-26e1-44d9-d17e-9dd9201850c3"
      },
      "source": [
        "# Celda 08\n",
        "\n",
        "y = [value**2 for value in range(1,11,1)]\n",
        "print(y)"
      ],
      "execution_count": null,
      "outputs": [
        {
          "output_type": "stream",
          "text": [
            "[1, 4, 9, 16, 25, 36, 49, 64, 81, 100]\n"
          ],
          "name": "stdout"
        }
      ]
    },
    {
      "cell_type": "markdown",
      "metadata": {
        "id": "f7QfMtysINeM"
      },
      "source": [
        "# Utilizando las listas para poder  hacer asignaciones mútiples\n",
        "\n",
        "Considere el siguiente ejemplo \n"
      ]
    },
    {
      "cell_type": "code",
      "metadata": {
        "id": "2AMoFUDUINeN",
        "outputId": "25391ab2-4e2b-4a00-9756-d2992ba2e07a"
      },
      "source": [
        "# Celda 09\n",
        "\n",
        "valores = [4,8,16]\n",
        "\n",
        "numero, doble,cuadrado = valores\n",
        "\n",
        "print(numero)\n",
        "print(doble)\n",
        "print(cuadrado)"
      ],
      "execution_count": null,
      "outputs": [
        {
          "output_type": "stream",
          "text": [
            "4\n",
            "8\n",
            "16\n"
          ],
          "name": "stdout"
        }
      ]
    },
    {
      "cell_type": "markdown",
      "metadata": {
        "id": "drVQmsmxINeS"
      },
      "source": [
        "Observe que se ha hecho una asignación triple, este tipo de situaciones son muy útiles al momento de poder hacer funciones en las que se requiere que regresen varios valores de forma mútliple.  Observe el siguiente código\n",
        " "
      ]
    },
    {
      "cell_type": "code",
      "metadata": {
        "id": "CPn8bHjvINeV",
        "outputId": "2c8c6258-53be-4b12-f493-8e75bb0234b9"
      },
      "source": [
        "# Celda 10\n",
        "\n",
        "def calculos(valor):\n",
        "    cuadrado = valor**2\n",
        "    cubo = valor **3\n",
        "    raiz = valor**(1/2)\n",
        "    return [cuadrado, cubo, raiz]\n",
        "\n",
        "cuadrado, cubo, raiz = calculos(4)\n",
        "\n",
        "print(\"El cuadrado de 4 es: \", cuadrado)\n",
        "print(\"El cubo de 4 es: \",cubo)\n",
        "print(\"La raiz de 4 es: \", raiz)"
      ],
      "execution_count": null,
      "outputs": [
        {
          "output_type": "stream",
          "text": [
            "El cuadrado de 4 es:  16\n",
            "El cubo de 4 es:  64\n",
            "La raiz de 4 es:  2.0\n"
          ],
          "name": "stdout"
        }
      ]
    },
    {
      "cell_type": "markdown",
      "metadata": {
        "id": "hb6AQ-tdINeg"
      },
      "source": [
        "# Operadores extras y muy útiles en listas\n",
        "\n",
        "## max()\n",
        "La función `max()` regresa el valor máximo de una lista NUMERICA y de una lista que contiene texto regesará el valor que esté en el último lugar si se organiza la lista en orden alfabético "
      ]
    },
    {
      "cell_type": "code",
      "metadata": {
        "id": "z1ul-PTDINeg",
        "outputId": "ce610cbd-e2f0-4c60-8bbd-2ba863fe59c2"
      },
      "source": [
        "# Celda 11\n",
        "\n",
        "colores = ['Amarillo','Cyan','Magenta','Blanco','Negro', 'Morado','Azul', 'Verde','Lila','Rojo']\n",
        "\n",
        "print(max(colores))"
      ],
      "execution_count": null,
      "outputs": [
        {
          "output_type": "stream",
          "text": [
            "Verde\n"
          ],
          "name": "stdout"
        }
      ]
    },
    {
      "cell_type": "code",
      "metadata": {
        "id": "B2_je80EINen",
        "outputId": "32e7eaa5-654f-4779-d7f1-39bfa965b0ed"
      },
      "source": [
        "# Celda 12\n",
        "\n",
        "valores = [ 1, 7, 9 , 92,2, -1, -38]\n",
        "print(max(valores))\n"
      ],
      "execution_count": null,
      "outputs": [
        {
          "output_type": "stream",
          "text": [
            "92\n"
          ],
          "name": "stdout"
        }
      ]
    },
    {
      "cell_type": "markdown",
      "metadata": {
        "id": "mvv7K3c7INeu"
      },
      "source": [
        "## min()\n",
        "El operador min regresa el valor mínimo  de una lista"
      ]
    },
    {
      "cell_type": "code",
      "metadata": {
        "id": "-TgxUXhYINev",
        "outputId": "7dec18ab-7a98-4e78-8033-b0b7ed461354"
      },
      "source": [
        "# Celda 13\n",
        "\n",
        "colores = ['Amarillo','Cyan','Magenta','Blanco','Negro', 'Morado','Azul', 'Verde','Lila','Rojo']\n",
        "\n",
        "print(min(colores))"
      ],
      "execution_count": null,
      "outputs": [
        {
          "output_type": "stream",
          "text": [
            "Amarillo\n"
          ],
          "name": "stdout"
        }
      ]
    },
    {
      "cell_type": "code",
      "metadata": {
        "id": "36gPcSOUINe5",
        "outputId": "8627aa39-aaa7-44af-c8d9-e46b761f7598"
      },
      "source": [
        "# Celda 14\n",
        "\n",
        "valores = [ 1, 7, 9 , 92,2, -1, -38]\n",
        "print(min(valores))\n"
      ],
      "execution_count": null,
      "outputs": [
        {
          "output_type": "stream",
          "text": [
            "-38\n"
          ],
          "name": "stdout"
        }
      ]
    },
    {
      "cell_type": "markdown",
      "metadata": {
        "id": "kilQ7FpqINe_"
      },
      "source": [
        "## sum()\n",
        "Resgresa la suma de los elementos de una lista, **SOLO FUNCIONA CON LISTAS CUYOS ELEMENTOS SON NUMÉRICOS**\n",
        "\n"
      ]
    },
    {
      "cell_type": "code",
      "metadata": {
        "id": "d6YE5aCCINfA",
        "outputId": "bf946028-418b-4c9b-cf34-3f392853cb38"
      },
      "source": [
        "# Celda 15\n",
        "\n",
        "valores = [ 1, 7, 9 , 92,2, -1, -38]\n",
        "sum(valores)"
      ],
      "execution_count": null,
      "outputs": [
        {
          "output_type": "execute_result",
          "data": {
            "text/plain": [
              "72"
            ]
          },
          "metadata": {
            "tags": []
          },
          "execution_count": 30
        }
      ]
    },
    {
      "cell_type": "markdown",
      "metadata": {
        "id": "XHfjI_vtINfI"
      },
      "source": [
        "## `in` y `not in`\n",
        "Estos operadores nos ayudan a verficar si algún elemento está dentro de la lista o no, observe el comportamiento en la siguient celda"
      ]
    },
    {
      "cell_type": "code",
      "metadata": {
        "id": "7eNMmkvfINfL",
        "outputId": "edad4a57-2dd3-4f3b-9f06-95b69e058bbe"
      },
      "source": [
        "# Celda 16\n",
        "\n",
        "colores = ['Amarillo','Cyan','Magenta','Blanco','Negro', 'Morado','Azul', 'Verde','Lila','Rojo']\n",
        "\n",
        "print('beige' in colores)"
      ],
      "execution_count": null,
      "outputs": [
        {
          "output_type": "stream",
          "text": [
            "False\n"
          ],
          "name": "stdout"
        }
      ]
    },
    {
      "cell_type": "code",
      "metadata": {
        "id": "Y3SLrNyCINfQ",
        "outputId": "f400b85f-2487-4c09-b880-1cec3a23d19a"
      },
      "source": [
        "# Celda 17\n",
        "\n",
        "colores = ['Amarillo','Cyan','Magenta','Blanco','Negro', 'Morado','Azul', 'Verde','Lila','Rojo']\n",
        "\n",
        "print('beige' not in colores)"
      ],
      "execution_count": null,
      "outputs": [
        {
          "output_type": "stream",
          "text": [
            "True\n"
          ],
          "name": "stdout"
        }
      ]
    },
    {
      "cell_type": "markdown",
      "metadata": {
        "id": "B8ln_W5zINfY"
      },
      "source": [
        "## index \n",
        "\n",
        "Este método de las listas ayuda regresa el índice de un elemento si es que el valor de dicho elemento está dentro de la lista, observe el siguiente ejemplo"
      ]
    },
    {
      "cell_type": "code",
      "metadata": {
        "id": "bTAEGFXCINfa",
        "outputId": "eed77427-c653-4903-a4bb-da8710f9ad4a",
        "colab": {
          "base_uri": "https://localhost:8080/",
          "height": 248
        }
      },
      "source": [
        "# Celda 18\n",
        "\n",
        "colores = ['Amarillo','Cyan','Magenta','Blanco','Negro', 'Morado','Azul', 'Verde','Lila','Rojo']\n",
        "\n",
        "print(colores.index('Magenta'))\n",
        "\n",
        "print(colores.index('Beige'))\n",
        "\n",
        "\n"
      ],
      "execution_count": null,
      "outputs": [
        {
          "output_type": "stream",
          "text": [
            "2\n"
          ],
          "name": "stdout"
        },
        {
          "output_type": "error",
          "ename": "ValueError",
          "evalue": "ignored",
          "traceback": [
            "\u001b[0;31m---------------------------------------------------------------------------\u001b[0m",
            "\u001b[0;31mValueError\u001b[0m                                Traceback (most recent call last)",
            "\u001b[0;32m<ipython-input-7-bfec5dd8ce19>\u001b[0m in \u001b[0;36m<module>\u001b[0;34m()\u001b[0m\n\u001b[1;32m      5\u001b[0m \u001b[0mprint\u001b[0m\u001b[0;34m(\u001b[0m\u001b[0mcolores\u001b[0m\u001b[0;34m.\u001b[0m\u001b[0mindex\u001b[0m\u001b[0;34m(\u001b[0m\u001b[0;34m'Magenta'\u001b[0m\u001b[0;34m)\u001b[0m\u001b[0;34m)\u001b[0m\u001b[0;34m\u001b[0m\u001b[0;34m\u001b[0m\u001b[0m\n\u001b[1;32m      6\u001b[0m \u001b[0;34m\u001b[0m\u001b[0m\n\u001b[0;32m----> 7\u001b[0;31m \u001b[0mprint\u001b[0m\u001b[0;34m(\u001b[0m\u001b[0mcolores\u001b[0m\u001b[0;34m.\u001b[0m\u001b[0mindex\u001b[0m\u001b[0;34m(\u001b[0m\u001b[0;34m'Beige'\u001b[0m\u001b[0;34m)\u001b[0m\u001b[0;34m)\u001b[0m\u001b[0;34m\u001b[0m\u001b[0;34m\u001b[0m\u001b[0m\n\u001b[0m\u001b[1;32m      8\u001b[0m \u001b[0;34m\u001b[0m\u001b[0m\n\u001b[1;32m      9\u001b[0m \u001b[0;34m\u001b[0m\u001b[0m\n",
            "\u001b[0;31mValueError\u001b[0m: 'Beige' is not in list"
          ]
        }
      ]
    },
    {
      "cell_type": "markdown",
      "metadata": {
        "id": "-n9SI1OEINfp"
      },
      "source": [
        "# Estructuras de datos mutables e inmutables\n",
        "\n",
        "Las listas no son el único tipo de estructuras de datos, existen las cadenas de caracteres o strings, entre otras estructuras, sin embargo, se pueden clasificar en dos grandes grupos, estructuras mutables e inmutables.\n",
        "\n",
        "Una lista es una estructura mutable, ua que aunque se haya declarado e inicializado los elementos,  éstos pueden cambiar uno por uno o toda la lista, esta característica es propia de de las **ESTRUCTURAS DE DATOS MUTABLES**. Se han visto varios ejemplos a lo largo de éste notebook y otros. \n",
        "\n",
        "\n",
        "Una **Estructura de datos inmutable** es aquella en la que una vez que se ha declarado e inicializada nose puden cambiar elemento por elemento sino que se debe de modificar toda la estructura de datos, un ejemplo de estas estructurasd e datos son los `strings` y las `tuplas`, que de manera no formal y muy burda se puede decir que son las listas inmutables, al ser inmutables hay algunos elementos o métodos de las listas que no aplican para las tuplas. \n",
        "\n",
        "En las siguientes celdas se muestra la inumtabilidad de los `strings`.\n"
      ]
    },
    {
      "cell_type": "code",
      "metadata": {
        "id": "_9cm73vpINfq"
      },
      "source": [
        "# Celda 19\n",
        "\n",
        "string_01 = 'Hola muchachos'\n",
        "string_01[3] = 'k'\n",
        "print(string_01)"
      ],
      "execution_count": null,
      "outputs": []
    },
    {
      "cell_type": "code",
      "metadata": {
        "id": "nmFOpWCGINfy",
        "outputId": "d744f7d2-0ad3-41f7-dcc1-581b443a66d2"
      },
      "source": [
        "# Celda 20\n",
        "\n",
        "string_01 = 'Hola muchachos'\n",
        "print(string_01)\n",
        "\n",
        "string_01 = 'Python programming'\n",
        "print(string_01)"
      ],
      "execution_count": null,
      "outputs": [
        {
          "output_type": "stream",
          "text": [
            "Hola muchachos\n",
            "Python programming\n"
          ],
          "name": "stdout"
        }
      ]
    },
    {
      "cell_type": "markdown",
      "metadata": {
        "id": "BUclRV3EINf5"
      },
      "source": [
        "# Tuplas\n",
        "Como ya se ha mencionado las tuplas son estructuras numéricas inmutables, la sintaxis para definir una tupla es muy similar a las listas, sólo que en vez de utilizar corchetes (`[ ]`), se utilizarán los paréntesis `(  )`."
      ]
    },
    {
      "cell_type": "markdown",
      "metadata": {
        "id": "eUriPZvmINf7"
      },
      "source": [
        "miTupla = (valor1, valor2, valor3)"
      ]
    },
    {
      "cell_type": "code",
      "metadata": {
        "id": "Vlul6M0QINf9",
        "outputId": "2b60fb38-4df4-4140-a1fc-3f92512ae796"
      },
      "source": [
        "Tupla_01 = (6,'hola',8)\n",
        "print(Tupla_01)"
      ],
      "execution_count": null,
      "outputs": [
        {
          "output_type": "stream",
          "text": [
            "(6, 'hola', 8)\n"
          ],
          "name": "stdout"
        }
      ]
    },
    {
      "cell_type": "code",
      "metadata": {
        "scrolled": true,
        "id": "Ew8tHHTyINgE"
      },
      "source": [
        "Tupla_01 = (6,'hola',8)\n",
        "Tupla_01[1] = 5\n",
        "print(Tupla_01)"
      ],
      "execution_count": null,
      "outputs": []
    },
    {
      "cell_type": "code",
      "metadata": {
        "id": "H0b-GnZHINgL",
        "outputId": "3d48ff9d-c325-416e-a50c-3091778c0a15"
      },
      "source": [
        "Tupla_01 =(6, 8, 10)\n",
        "print(Tupla_01)\n",
        "\n",
        "Tupla_01 = (5,6)\n",
        "print(Tupla_01)"
      ],
      "execution_count": null,
      "outputs": [
        {
          "output_type": "stream",
          "text": [
            "(6, 8, 10)\n",
            "(5, 6)\n"
          ],
          "name": "stdout"
        }
      ]
    },
    {
      "cell_type": "markdown",
      "metadata": {
        "id": "h_GCHyWcINgT"
      },
      "source": [
        "# Ejercicios\n",
        "1.- Escribir un programa para comparar y obtener la diferencia de dos listas.\n",
        "\n",
        "2.- Escribir un programa que lea una lista de 10 elementos y que indique el segundo número menor de la lista.\n",
        "\n",
        "3.- Escribir un programa que cuente la frecuencia de los elementos de una lista. \n",
        "\n",
        "4.- Escribir un programa que muestre los elementos que se repiten en dos listas de 20 elementos cada una, la lista debe ser llenada a través del teclado. \n"
      ]
    },
    {
      "cell_type": "code",
      "metadata": {
        "id": "GnlLk3vqu11w",
        "outputId": "e2279a1c-480a-47d0-c15c-21ebddb5805a",
        "colab": {
          "base_uri": "https://localhost:8080/",
          "height": 119
        }
      },
      "source": [
        "#Ramos Hernández Antonio#\n",
        "#1.- Escribir un programa para comparar y obtener la diferencia de dos listas.#\n",
        "\n",
        "listaA = [ 1, 6, 10 , 4,2, -199, -21, 33, 91, -91,-100]\n",
        "listaB = [1,5,-10,8,-100,-2,-1,87,16,-2-5,91]\n",
        "\n",
        "listacomun=[]\n",
        "listanocomun=[]\n",
        "\n",
        "listaA.sort()\n",
        "listaB.sort()\n",
        "ini=0\n",
        "while ini < len(listaA):\n",
        "  if (ini>0):\n",
        "    while listaA[ini]==listaA[ini-1]:\n",
        "      ini+=1\n",
        "  if (listaB.count(listaA[ini])>0):\n",
        "   \n",
        "    listacomun.append(listaA[ini])\n",
        "  ini+=1\n",
        "\n",
        "#No común  \n",
        "inia = 0  \n",
        "ini2 = 0\n",
        "listanocomun=listaA+listaB\n",
        "while inia < len(listacomun): \n",
        "  while ini2 < len(listanocomun):\n",
        "    if (listacomun[inia]==listanocomun[ini2]):\n",
        "      listanocomun.pop(ini2)\n",
        "    ini2+=1\n",
        "    \n",
        "  inia+=1\n",
        "  ini2=0\n",
        "\n",
        "listanocomun.sort()\n",
        "\n",
        "print('Lista 1: '+ str(listaA))\n",
        "print('Lista 2: '+str(listaB))  \n",
        "print()\n",
        "diferencia = sum(listaA)-sum(listaB)\n",
        "print('La diferencia de '+ str(listaA) +' y de '+str(listaB)+' es de: '+ str(diferencia))\n",
        "print('Los numeros que tienen en común ambas listas: '+str(listacomun))\n",
        "print('Los numeros que no tienen en comun en ambas listas: '+str(listanocomun))"
      ],
      "execution_count": 78,
      "outputs": [
        {
          "output_type": "stream",
          "text": [
            "Lista 1: [-199, -100, -91, -21, 1, 2, 4, 6, 10, 33, 91]\n",
            "Lista 2: [-100, -10, -7, -2, -1, 1, 5, 8, 16, 87, 91]\n",
            "\n",
            "La diferencia de [-199, -100, -91, -21, 1, 2, 4, 6, 10, 33, 91] y de [-100, -10, -7, -2, -1, 1, 5, 8, 16, 87, 91] es de: -352\n",
            "Los numeros que tienen en común ambas listas: [-100, 1, 91]\n",
            "Los numeros que no tienen en comun en ambas listas: [-199, -91, -21, -10, -7, -2, -1, 2, 4, 5, 6, 8, 10, 16, 33, 87]\n"
          ],
          "name": "stdout"
        }
      ]
    },
    {
      "cell_type": "code",
      "metadata": {
        "id": "2-MmC8rpINgU",
        "outputId": "3f6630f2-452b-47be-d7d9-4c801063fc59",
        "colab": {
          "base_uri": "https://localhost:8080/",
          "height": 34
        }
      },
      "source": [
        "#Ramos Hernández Antonio#\n",
        "#2.- Escribir un programa que lea una lista de 10 elementos y que indique el segundo número menor de la lista.#\n",
        "\n",
        "elementos = [2,7,-1,-12,-2,-12,100,-10,11,5]\n",
        "elementosOrdenados= sorted(elementos)\n",
        "logico=0\n",
        "i=1\n",
        "segundoNumeroMenor = 0\n",
        "\n",
        "while logico!=1:\n",
        "  if elementosOrdenados[0]<elementosOrdenados[i]:\n",
        "    logico=1\n",
        "    segundoNumeroMenor = elementosOrdenados[i]\n",
        "  else: \n",
        "    i+=1\n",
        "\n",
        "print('El segundo número menor de la lista es: '+str(segundoNumeroMenor))"
      ],
      "execution_count": null,
      "outputs": [
        {
          "output_type": "stream",
          "text": [
            "El segundo número menor de la lista es: -10\n"
          ],
          "name": "stdout"
        }
      ]
    },
    {
      "cell_type": "code",
      "metadata": {
        "id": "xt4LHt8Zmsb4",
        "outputId": "10d53218-078a-4f36-a4b9-4edd146a3d2b",
        "colab": {
          "base_uri": "https://localhost:8080/",
          "height": 238
        }
      },
      "source": [
        "#Ramos Hernández Antonio#\n",
        "#3.- Escribir un programa que cuente la frecuencia de los elementos de una lista.#\n",
        "\n",
        "lista = [5,11,2,7,9,3,3,7,8,0,1,12,7,4,6,9]\n",
        "listarepetidos=[]\n",
        "lista.sort()\n",
        "i=0\n",
        "i2=0\n",
        "contador=0\n",
        "print(lista)\n",
        "while i < 16:\n",
        "\n",
        "  if (i>0):\n",
        "    while lista[i]==lista[i-1]:\n",
        "      i+=1\n",
        "\n",
        "  listarepetidos.append(lista.count(lista[i]))\n",
        "  print('Numero: '+str(lista[i])+' tiene una frecuencia de: '+str(listarepetidos[i2]))\n",
        "\n",
        "  i+=1\n",
        "  i2+=1"
      ],
      "execution_count": null,
      "outputs": [
        {
          "output_type": "stream",
          "text": [
            "[0, 1, 2, 3, 3, 4, 5, 6, 7, 7, 7, 8, 9, 9, 11, 12]\n",
            "Numero: 0 tiene una frecuencia de: 1\n",
            "Numero: 1 tiene una frecuencia de: 1\n",
            "Numero: 2 tiene una frecuencia de: 1\n",
            "Numero: 3 tiene una frecuencia de: 2\n",
            "Numero: 4 tiene una frecuencia de: 1\n",
            "Numero: 5 tiene una frecuencia de: 1\n",
            "Numero: 6 tiene una frecuencia de: 1\n",
            "Numero: 7 tiene una frecuencia de: 3\n",
            "Numero: 8 tiene una frecuencia de: 1\n",
            "Numero: 9 tiene una frecuencia de: 2\n",
            "Numero: 11 tiene una frecuencia de: 1\n",
            "Numero: 12 tiene una frecuencia de: 1\n"
          ],
          "name": "stdout"
        }
      ]
    },
    {
      "cell_type": "code",
      "metadata": {
        "id": "nySKlkVzqmge",
        "outputId": "146d4e32-cab0-42f4-e8c9-f20c25218504",
        "colab": {
          "base_uri": "https://localhost:8080/",
          "height": 816
        }
      },
      "source": [
        "#Ramos Hernández Antonio#\n",
        "#4.- Escribir un programa que muestre los elementos que se repiten en dos listas de 20 elementos cada una, la lista debe ser llenada a través del teclado.#\n",
        "\n",
        "lista1 = []\n",
        "lista2 = []\n",
        "listarepetidos=[]\n",
        "\n",
        "#introducir  valores\n",
        "for i in range(0,20):\n",
        "  numero = int(input(\"Introduce el valor en la lista [ \"+str(i)+\" ] \"))\n",
        "  lista1.append(numero)\n",
        "  numero = int(input(\"Introduce el valor en la lista 2 [ \"+str(i)+\" ] \"))\n",
        "  lista2.append(numero)\n",
        "###############################\n",
        "lista1.sort()\n",
        "lista2.sort()\n",
        "i=0\n",
        "while i <20:\n",
        "\n",
        "  if (i>0):\n",
        "    while lista1[i]==lista1[i-1]:\n",
        "      i+=1\n",
        "  if (lista2.count(lista1[i])>0):\n",
        "    listarepetidos.append(lista1[i])\n",
        "  i+=1\n",
        "print()\n",
        "print()\n",
        "print()\n",
        "print('Lista 1: '+ str(lista1))\n",
        "print('Lista 2: '+str(lista2))  \n",
        "print()\n",
        "print('Los numeros que se repiten en ambas listas: '+str(listarepetidos))\n",
        "\n"
      ],
      "execution_count": null,
      "outputs": [
        {
          "output_type": "stream",
          "text": [
            "Introduce el valor en la lista [ 0 ] 0\n",
            "Introduce el valor en la lista 2 [ 0 ] 2\n",
            "Introduce el valor en la lista [ 1 ] 9\n",
            "Introduce el valor en la lista 2 [ 1 ] 1\n",
            "Introduce el valor en la lista [ 2 ] 3\n",
            "Introduce el valor en la lista 2 [ 2 ] 8\n",
            "Introduce el valor en la lista [ 3 ] 4\n",
            "Introduce el valor en la lista 2 [ 3 ] 7\n",
            "Introduce el valor en la lista [ 4 ] 5\n",
            "Introduce el valor en la lista 2 [ 4 ] 6\n",
            "Introduce el valor en la lista [ 5 ] 1\n",
            "Introduce el valor en la lista 2 [ 5 ] 0\n",
            "Introduce el valor en la lista [ 6 ] 2\n",
            "Introduce el valor en la lista 2 [ 6 ] 9\n",
            "Introduce el valor en la lista [ 7 ] 3\n",
            "Introduce el valor en la lista 2 [ 7 ] 77\n",
            "Introduce el valor en la lista [ 8 ] 55\n",
            "Introduce el valor en la lista 2 [ 8 ] 22\n",
            "Introduce el valor en la lista [ 9 ] 11\n",
            "Introduce el valor en la lista 2 [ 9 ] 10\n",
            "Introduce el valor en la lista [ 10 ] 1000\n",
            "Introduce el valor en la lista 2 [ 10 ] 29\n",
            "Introduce el valor en la lista [ 11 ] 12\n",
            "Introduce el valor en la lista 2 [ 11 ] 44\n",
            "Introduce el valor en la lista [ 12 ] 40\n",
            "Introduce el valor en la lista 2 [ 12 ] 122\n",
            "Introduce el valor en la lista [ 13 ] 66681\n",
            "Introduce el valor en la lista 2 [ 13 ] 23\n",
            "Introduce el valor en la lista [ 14 ] 90\n",
            "Introduce el valor en la lista 2 [ 14 ] 92\n",
            "Introduce el valor en la lista [ 15 ] 52\n",
            "Introduce el valor en la lista 2 [ 15 ] 44\n",
            "Introduce el valor en la lista [ 16 ] 88\n",
            "Introduce el valor en la lista 2 [ 16 ] 11\n",
            "Introduce el valor en la lista [ 17 ] 22\n",
            "Introduce el valor en la lista 2 [ 17 ] 84\n",
            "Introduce el valor en la lista [ 18 ] 33\n",
            "Introduce el valor en la lista 2 [ 18 ] 22\n",
            "Introduce el valor en la lista [ 19 ] 10\n",
            "Introduce el valor en la lista 2 [ 19 ] 1000\n",
            "\n",
            "\n",
            "\n",
            "Lista 1: [0, 1, 2, 3, 3, 4, 5, 9, 10, 11, 12, 22, 33, 40, 52, 55, 88, 90, 1000, 66681]\n",
            "Lista 2: [0, 1, 2, 6, 7, 8, 9, 10, 11, 22, 22, 23, 29, 44, 44, 77, 84, 92, 122, 1000]\n",
            "\n",
            "Los numeros que se repiten en ambas listas: [0, 1, 2, 9, 10, 11, 22, 1000]\n"
          ],
          "name": "stdout"
        }
      ]
    }
  ]
}